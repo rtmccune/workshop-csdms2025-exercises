{
 "cells": [
  {
   "cell_type": "markdown",
   "id": "3b1e9977-24bf-4f79-b44b-38664c9f3790",
   "metadata": {},
   "source": [
    "# I am an example notebook\n",
    "\n",
    "You can render me in a webpage!"
   ]
  },
  {
   "cell_type": "code",
   "execution_count": 1,
   "id": "e5999226-d3c7-412f-8b8f-54bcee2223bd",
   "metadata": {},
   "outputs": [
    {
     "data": {
      "text/plain": [
       "2"
      ]
     },
     "execution_count": 1,
     "metadata": {},
     "output_type": "execute_result"
    }
   ],
   "source": [
    "1 + 1"
   ]
  },
  {
   "cell_type": "markdown",
   "id": "f0795809-5f87-4b07-a341-66d1639bcaa0",
   "metadata": {},
   "source": [
    "## Render an interactive map!"
   ]
  },
  {
   "cell_type": "code",
   "execution_count": 1,
   "id": "d348e3a7-7147-410b-b989-a44cd6c25003",
   "metadata": {},
   "outputs": [
    {
     "data": {
      "text/plain": [
       "<folium.features.GeoJson at 0x7f362796bcb0>"
      ]
     },
     "execution_count": 1,
     "metadata": {},
     "output_type": "execute_result"
    }
   ],
   "source": [
    "import folium\n",
    "\n",
    "m = folium.Map(location=(40.00979778909886, -105.24215679549545), zoom_start=14)\n",
    "m = folium.GeoJson(\"seec_and_nsidc.geojson\").add_to(m)\n",
    "m"
   ]
  },
  {
   "cell_type": "markdown",
   "id": "e3e54415-dc6d-4ffe-ade3-18268935ff2b",
   "metadata": {},
   "source": [
    "## [... wat](https://www.youtube.com/watch?v=mRPU3l54Z7I)\n",
    "\n",
    "😁"
   ]
  },
  {
   "cell_type": "code",
   "execution_count": 3,
   "id": "ad3cdc01-37d1-4e49-a517-cca697028497",
   "metadata": {},
   "outputs": [
    {
     "data": {
      "text/plain": [
       "True"
      ]
     },
     "execution_count": 3,
     "metadata": {},
     "output_type": "execute_result"
    }
   ],
   "source": [
    "False == False in [False]"
   ]
  }
 ],
 "metadata": {
  "kernelspec": {
   "display_name": "Python 3 (ipykernel)",
   "language": "python",
   "name": "python3"
  },
  "language_info": {
   "codemirror_mode": {
    "name": "ipython",
    "version": 3
   },
   "file_extension": ".py",
   "mimetype": "text/x-python",
   "name": "python",
   "nbconvert_exporter": "python",
   "pygments_lexer": "ipython3",
   "version": "3.13.3"
  }
 },
 "nbformat": 4,
 "nbformat_minor": 5
}
